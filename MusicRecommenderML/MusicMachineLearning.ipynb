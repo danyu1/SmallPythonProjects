{
 "cells": [
  {
   "cell_type": "code",
   "execution_count": null,
   "id": "7bf3e8ab",
   "metadata": {},
   "outputs": [],
   "source": [
    "#import the data\n",
    "#prepare the data/ clean the data\n",
    "#remove dupes and null values\n",
    "#seperate into input sets and output sets --> output sets contain the prediction"
   ]
  },
  {
   "cell_type": "code",
   "execution_count": 149,
   "id": "5bd29c9f",
   "metadata": {},
   "outputs": [
    {
     "data": {
      "text/plain": [
       "1.0"
      ]
     },
     "execution_count": 149,
     "metadata": {},
     "output_type": "execute_result"
    }
   ],
   "source": [
    "import pandas as pd\n",
    "from sklearn.tree import DecisionTreeClassifier\n",
    "from sklearn.model_selection import train_test_split\n",
    "from sklearn.metrics import accuracy_score\n",
    "\n",
    "musicData = pd.read_csv ('music.csv')\n",
    "#will create a new dataset without the genre column\n",
    "X = musicData.drop(columns=['genre'])\n",
    "y = musicData['genre']\n",
    "#this function allocates 20% of the data to testing, the other 80% automatically allocated to training, it returns a tuple that can be unpacked\n",
    "#results will change every time because the function randomly selects data for training and testing, sometimes it will pick good data, other times it won't\n",
    "x_train, x_test, y_train, y_test = train_test_split(x, y, test_size=0.2)\n",
    "\n",
    "model = DecisionTreeClassifier()\n",
    "#analyzes and trains the data, only pass the training data sets\n",
    "model.fit(x_train, y_train)\n",
    "#takes a 2d array that passes input sets\n",
    "predictions = model.predict(x_test)\n",
    "#y_test contains the expected values and predictions contains the predicted values\n",
    "score = accuracy_score (y_test, predictions)\n",
    "score"
   ]
  }
 ],
 "metadata": {
  "kernelspec": {
   "display_name": "Python 3 (ipykernel)",
   "language": "python",
   "name": "python3"
  },
  "language_info": {
   "codemirror_mode": {
    "name": "ipython",
    "version": 3
   },
   "file_extension": ".py",
   "mimetype": "text/x-python",
   "name": "python",
   "nbconvert_exporter": "python",
   "pygments_lexer": "ipython3",
   "version": "3.9.13"
  }
 },
 "nbformat": 4,
 "nbformat_minor": 5
}
