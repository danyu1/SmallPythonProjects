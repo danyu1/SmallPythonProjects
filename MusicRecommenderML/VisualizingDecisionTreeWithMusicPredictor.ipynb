{
 "cells": [
  {
   "cell_type": "code",
   "execution_count": 1,
   "id": "1de4807a",
   "metadata": {},
   "outputs": [],
   "source": [
    "import pandas as pd\n",
    "from sklearn.tree import DecisionTreeClassifier\n",
    "from sklearn import tree\n",
    "\n",
    "music_data = pd.read_csv ('music.csv')\n",
    "X = music_data.drop(columns=['genre'])\n",
    "y = music_data ['genre']\n",
    "\n",
    "model = DecisionTreeClassifier ()\n",
    "model.fit (X, y)\n",
    "\n",
    "#fill to true --> each box is filled with colors\n",
    "#rounded to true --> each box has rounded corners\n",
    "#label to all --> so every node has labels to read\n",
    "#class_names to unique list of genres --> displaying the class of each node\n",
    "#feature_names to age and gender --> so you can see the rules at the top of the node\n",
    "tree.export_graphviz (model, out_file='music-recommender.dot', \n",
    "                      feature_names=['age', 'gender'], \n",
    "                      class_names=sorted(y.unique()), label='all',\n",
    "                      rounded=True, filled=True)\n",
    "\n"
   ]
  }
 ],
 "metadata": {
  "kernelspec": {
   "display_name": "Python 3 (ipykernel)",
   "language": "python",
   "name": "python3"
  },
  "language_info": {
   "codemirror_mode": {
    "name": "ipython",
    "version": 3
   },
   "file_extension": ".py",
   "mimetype": "text/x-python",
   "name": "python",
   "nbconvert_exporter": "python",
   "pygments_lexer": "ipython3",
   "version": "3.9.13"
  }
 },
 "nbformat": 4,
 "nbformat_minor": 5
}
