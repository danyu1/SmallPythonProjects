{
 "cells": [
  {
   "cell_type": "code",
   "execution_count": 8,
   "id": "3a0feb56",
   "metadata": {},
   "outputs": [
    {
     "name": "stderr",
     "output_type": "stream",
     "text": [
      "/Users/danielhernandez/opt/anaconda3/lib/python3.9/site-packages/sklearn/base.py:450: UserWarning: X does not have valid feature names, but DecisionTreeClassifier was fitted with feature names\n",
      "  warnings.warn(\n"
     ]
    },
    {
     "data": {
      "text/plain": [
       "array(['HipHop'], dtype=object)"
      ]
     },
     "execution_count": 8,
     "metadata": {},
     "output_type": "execute_result"
    }
   ],
   "source": [
    "#first, do everything normally (split and prepare the data, train the data, etc.), then use the joblib class to dump the trained model as a file\n",
    "#finally load the trained model and create predictions using the already trained model\n",
    "\n",
    "import pandas as pd\n",
    "from sklearn.tree import DecisionTreeClassifier\n",
    "#joblib module has mehtods for saving and loading models\n",
    "import joblib\n",
    "\n",
    "\n",
    "# music_data = pd.read_csv ('music.csv')\n",
    "# X = music_data.drop (columns=['genre'])\n",
    "# y = music_data ['genre']\n",
    "\n",
    "# model = DecisionTreeClassifier ()\n",
    "# model.fit (X, y)\n",
    "\n",
    "trained_model = joblib.load ('music-recommender.joblib')\n",
    "predictions = trained_model.predict ([ [21,1] ])\n",
    "predictions\n",
    "#predictions = model.predict ([ [21, 1] ]) "
   ]
  }
 ],
 "metadata": {
  "kernelspec": {
   "display_name": "Python 3 (ipykernel)",
   "language": "python",
   "name": "python3"
  },
  "language_info": {
   "codemirror_mode": {
    "name": "ipython",
    "version": 3
   },
   "file_extension": ".py",
   "mimetype": "text/x-python",
   "name": "python",
   "nbconvert_exporter": "python",
   "pygments_lexer": "ipython3",
   "version": "3.9.13"
  }
 },
 "nbformat": 4,
 "nbformat_minor": 5
}
